{
 "cells": [
  {
   "cell_type": "markdown",
   "id": "a8ddafb7-4c2b-4907-acd4-9eacf8d6bb87",
   "metadata": {
    "collapsed": false,
    "name": "title"
   },
   "source": [
    "# CV Analysis and Processing Pipeline\n",
    "\n",
    "This notebook demonstrates an end-to-end pipeline for processing and analyzing CVs/resumes using Snowflake's document processing and AI capabilities.\n",
    "\n",
    "## Pipeline Overview\n",
    "* **Document Loading**: Reads CV documents from a Snowflake stage\n",
    "* **Text Extraction**: Processes PDF and markdown documents to extract structured content\n",
    "* **Metadata Generation**: Uses AI to extract key information like:\n",
    "  - Name, Job Title, Company\n",
    "  - Experience Level\n",
    "  - Education\n",
    "  - Skills and Certifications\n",
    "  - Location and Industry\n",
    "\n",
    "## Advanced Analysis Features\n",
    "* **Chunked Text Processing**: Splits documents into manageable chunks for better analysis\n",
    "* **Search Service**: Implements a Cortex Search service for semantic document search\n",
    "* **AI-Powered Classification**: Categorizes CVs into job roles\n",
    "* **Experience Filtering**: Ability to filter candidates based on specific experience criteria\n",
    "* **Automated Ranking**: Groups and ranks candidates based on job role suitability\n",
    "\n",
    "This notebook showcases how to leverage Snowflake's AI capabilities for intelligent resume parsing and candidate assessment.\n"
   ]
  },
  {
   "cell_type": "markdown",
   "id": "2988a310-9cfe-4d4c-840a-aef616fb06e2",
   "metadata": {
    "collapsed": false,
    "name": "section1_parsing"
   },
   "source": [
    "Part One: In built document parsing"
   ]
  },
  {
   "cell_type": "code",
   "execution_count": null,
   "id": "3775908f-ca36-4846-8f38-5adca39217f2",
   "metadata": {
    "language": "sql",
    "name": "check_files"
   },
   "outputs": [],
   "source": [
    "-- List documents in stage\n",
    "SELECT * FROM DIRECTORY('@AMS_LABS.DATA_ENGINEERING.CVS');"
   ]
  },
  {
   "cell_type": "code",
   "execution_count": null,
   "id": "8d50cbf4-0c8d-4950-86cb-114990437ac9",
   "metadata": {
    "language": "sql",
    "name": "extract_full"
   },
   "outputs": [],
   "source": [
    "-- Layout extraction for PDF and markdown documents\n",
    "CREATE OR REPLACE TABLE AMS_LABS.DATA_ENGINEERING.CVs_RAW_TEXT AS\n",
    "SELECT \n",
    "    RELATIVE_PATH,\n",
    "    TO_VARCHAR (\n",
    "        SNOWFLAKE.CORTEX.PARSE_DOCUMENT (\n",
    "            '@AMS_LABS.DATA_ENGINEERING.CVS',\n",
    "            RELATIVE_PATH,\n",
    "            {'mode': 'LAYOUT'} ):content --NOTE: this can be 'LAYOUT' (we'll maintain structures for tables, etc) or OCR (raw text output)\n",
    "        ) AS EXTRACTED_LAYOUT \n",
    "FROM \n",
    "    DIRECTORY('@AMS_LABS.DATA_ENGINEERING.CVS')\n",
    "    ;\n",
    "\n",
    "select top 100 * from AMS_LABS.DATA_ENGINEERING.CVs_RAW_TEXT;"
   ]
  },
  {
   "cell_type": "code",
   "execution_count": null,
   "id": "0cf52657-1083-477a-bd28-1b7db295ddd2",
   "metadata": {
    "language": "sql",
    "name": "cell1"
   },
   "outputs": [],
   "source": [
    "select top 10 * from AMS_LABS.DATA_ENGINEERING.CVs_RAW_TEXT;"
   ]
  },
  {
   "cell_type": "markdown",
   "id": "d4b019d5-4b30-4ebd-a8c5-802485f564e4",
   "metadata": {
    "collapsed": false,
    "name": "section2_aisql"
   },
   "source": [
    "Part Two : AISQL and Entity Extraction and AISQL (note: these functions also support Python)\n",
    "\n",
    "- AISQL allows us to ask analytically orientated questions of data without the need for RAG / chatbots / more. This includes filtering, classification, entity extraction, summarisation, and more!\n",
    "\n",
    "- We can also run mass entity extraction using a single prompt via structured outputs for further analysis"
   ]
  },
  {
   "cell_type": "code",
   "execution_count": null,
   "id": "3fe88974-517c-42ad-a477-42e733651ba7",
   "metadata": {
    "language": "sql",
    "name": "AI_summarise"
   },
   "outputs": [],
   "source": [
    "--Let's start with an easy one, summarising unstructured content\n",
    "SELECT SNOWFLAKE.CORTEX.SUMMARIZE(extracted_layout) as AI_SUMMARY FROM AMS_LABS.DATA_ENGINEERING.CVs_RAW_TEXT LIMIT 5;"
   ]
  },
  {
   "cell_type": "code",
   "execution_count": null,
   "id": "6f419f13-60f7-4d7a-a514-6840a38c2333",
   "metadata": {
    "language": "sql",
    "name": "AI_classify"
   },
   "outputs": [],
   "source": [
    "-- We can also classify the content into appropriate classifiers (note: these can be enriched further with descriptions!)\n",
    "-- Note that we can see, AI_CLASSIFY has some differences in the folder, but looking closely in the actual CVs, \n",
    "-- some are actually correctly classified, and the original folder path are incorrect!\n",
    "SELECT relative_path,\n",
    "    AI_CLASSIFY(extracted_layout, ['Business Analyst', 'Investment Banker', 'Private Banking Execs', 'PEP Risk Analyst', 'Data Scientist', 'Business Relationship Manager', 'Risk Assessment Assoc', 'Product Managers', 'Head Of Compliance', 'Customer Service', 'Other']):labels AS classification, \n",
    "    extracted_layout,\n",
    "FROM AMS_LABS.DATA_ENGINEERING.CVs_RAW_TEXT\n",
    "LIMIT 20  -- just to keep things speedy, will take ~30s on the full dataset\n",
    ";"
   ]
  },
  {
   "cell_type": "code",
   "execution_count": null,
   "id": "508c5678-8fc1-48fc-abe9-721547d2baf8",
   "metadata": {
    "language": "sql",
    "name": "ai_filter"
   },
   "outputs": [],
   "source": [
    "-- Semantic filtering and prioritisation is also possible directly (you can also use this via joins)\n",
    "SELECT ai_filter(PROMPT('Does this candidate has over 10 years of work experience in Mergers and Acquisition? {0}', extracted_layout)) as qualified_boolean, *\n",
    "FROM AMS_LABS.DATA_ENGINEERING.CVs_RAW_TEXT\n",
    "ORDER BY 1 desc;"
   ]
  },
  {
   "cell_type": "code",
   "execution_count": null,
   "id": "d2ce37f2-7253-47fb-852c-434603fd836c",
   "metadata": {
    "codeCollapsed": false,
    "language": "sql",
    "name": "ai_classify_complex"
   },
   "outputs": [],
   "source": [
    "-- You can even chain these asks together and build out pipelines for HIL and auto-insights (eg. here are the candidates most worth looking at from the last 7 days).\n",
    "-- NOTE: this example does many different things accross the entire dataset and may take a minute or two.\n",
    "CREATE TABLE IF NOT EXISTS rated_CVs AS\n",
    "SELECT\n",
    "  AI_CLASSIFY(extracted_layout, ['Business Analyst', 'Investment Banker', 'Private Banking Execs', 'PEP Risk Analyst', 'Data Scientist', 'Business Relationship Manager', 'Risk Assessment Assoc', 'Product Managers', 'Head Of Compliance', 'Customer Service', 'Other']):labels AS classification,\n",
    "  AI_AGG(\n",
    "    CONCAT('Potential job: ',classification,'. CV: ',extracted_layout),\n",
    "    'Given the collection of CV and potential job, I would like you to summarise and rank them based on their most appropriate experience. List each candidate and two lines that backs up the reason for the ranking' -- should have\n",
    "  ) as AI_Ranking\n",
    "FROM\n",
    "  AMS_LABS.DATA_ENGINEERING.CVs_RAW_TEXT\n",
    "WHERE\n",
    "  ai_filter(\n",
    "    PROMPT(\n",
    "      'Does this candidate has over 5 years of work experience in Financial Services? {0}', -- must have\n",
    "      extracted_layout\n",
    "    )\n",
    "  )\n",
    "GROUP BY\n",
    "  1;"
   ]
  },
  {
   "cell_type": "code",
   "execution_count": null,
   "id": "e7996067-bfb7-492c-a219-e679957b41c9",
   "metadata": {
    "language": "sql",
    "name": "cell2"
   },
   "outputs": [],
   "source": [
    "SELECT * FROM rated_CVs;"
   ]
  },
  {
   "cell_type": "code",
   "execution_count": null,
   "id": "638f92e5-3aa1-4847-9160-d8f18882a6bf",
   "metadata": {
    "codeCollapsed": false,
    "language": "sql",
    "name": "ai_complete_metadata"
   },
   "outputs": [],
   "source": [
    "-- Use Structured Outputs to generate an extracted dataset\n",
    "-- Pro: Custom prompting on how the document should be handled and the values + not bound to raw docs/images\n",
    "-- Cons: DocAI is more cost efficient when fine tuned for values (and theoretically easier)\n",
    "CREATE OR REPLACE TABLE AMS_LABS.DATA_ENGINEERING.CVs_RAW_TEXT_METADATA AS (\n",
    "SELECT\n",
    "    relative_path,\n",
    "    EXTRACTED_LAYOUT,\n",
    "    AI_COMPLETE(\n",
    "        model => 'openai-gpt-4.1',\n",
    "        --model => 'claude-4-sonnet',\n",
    "        prompt => 'You are an expert in entity extraction primarily focused on recruitment and human data extraction. Given a CV, I would like you to:\n",
    "        - Provide key information associated with this resume.\n",
    "        - Extrapolate data where information can be plausibly calculated.\n",
    "        - Only retrieve information found in the CV itself.\n",
    "        When extracting the key entities, follow these instructions closely:\n",
    "    1. Only provide key high level information that a human might be expected to provide when searching for this doc.\n",
    "    2. Only extract the following information. If you are not confident with pulling any one of these keys, then return a NULL or 0 where appropriate based on the requested data type.\n",
    "    3. Do not provide explainers or reaffirm the question.'\n",
    "    || '\\n\\n RAW CV DATA:\\n' || SUBSTR(EXTRACTED_LAYOUT, 0, 4000) || '\\n END OF CV\\n\\n',\n",
    "        response_format => {\n",
    "            'type': 'json',\n",
    "            'schema': {\n",
    "                'type': 'object',\n",
    "                'properties': {\n",
    "                    'CV': {\n",
    "                        'type': 'object',\n",
    "                        'properties': {\n",
    "                            'full_name': {\n",
    "                                'type': 'string'\n",
    "                            },\n",
    "                            'current_job_title': {\n",
    "                                'type': 'string',\n",
    "                                'description': 'The person''s most recent or current job title.'\n",
    "                            },\n",
    "                            'current_company': {\n",
    "                                'type': 'string',\n",
    "                                'description': 'The person''s most recent or current employer.'\n",
    "                            },\n",
    "                            'industry_sector': {\n",
    "                                'type': 'string',\n",
    "                                'description': 'The industry the person works in, e.g., ''Technology'', ''Healthcare'', ''Finance''.'\n",
    "                            },\n",
    "                            'location_city': {\n",
    "                                'type': 'string',\n",
    "                                'description': 'The city where the person is based, e.g., ''London'', ''New York''.'\n",
    "                            },\n",
    "                            'years_of_experience': {\n",
    "                                'type': 'string',\n",
    "                                'description': 'Total number of years of professional experience, e.g., ''10 years''.'\n",
    "                            },\n",
    "                            'career_level': {\n",
    "                                'type': 'string',\n",
    "                                'description': 'The person''s career seniority, e.g., ''Entry-level'', ''Senior'', ''Executive''.'\n",
    "                            },\n",
    "                            'highest_education_degree': {\n",
    "                                'type': 'string',\n",
    "                                'description': 'The highest academic degree obtained, e.g., ''Bachelor of Science'', ''PhD''.'\n",
    "                            },\n",
    "                            'university_institution': {\n",
    "                                'type': 'string',\n",
    "                                'description': 'The name of the university or institution that awarded the highest degree.'\n",
    "                            },\n",
    "                            'professional_certifications': {\n",
    "                                'type': 'string',\n",
    "                                'description': 'A comma-separated list of key professional certifications, e.g., ''PMP, AWS Certified Developer''.'\n",
    "                            },\n",
    "                            'primary_skills': {\n",
    "                                'type': 'string',\n",
    "                                'description': 'A comma-separated list of the most important technical or professional skills.'\n",
    "                            }\n",
    "                        },\n",
    "                        'required': [\n",
    "                            'full_name',\n",
    "                            'current_job_title',\n",
    "                            'current_company',\n",
    "                            'industry_sector',\n",
    "                            'location_city',\n",
    "                            'years_of_experience',\n",
    "                            'career_level',\n",
    "                            'highest_education_degree',\n",
    "                            'university_institution',\n",
    "                            'professional_certifications',\n",
    "                            'primary_skills'\n",
    "                        ],\n",
    "                        'additionalProperties': false\n",
    "                    }\n",
    "                },\n",
    "                'required': ['CV'],\n",
    "                'additionalProperties': false\n",
    "            }\n",
    "        }\n",
    "    ) AS METADATA\n",
    "FROM\n",
    "    AMS_LABS.DATA_ENGINEERING.CVs_RAW_TEXT\n",
    "--LIMIT 3\n",
    ");"
   ]
  },
  {
   "cell_type": "code",
   "execution_count": null,
   "id": "53187b11-f268-47f8-b9d5-ab793449dff6",
   "metadata": {
    "codeCollapsed": false,
    "language": "sql",
    "name": "table_check"
   },
   "outputs": [],
   "source": [
    "-- We have our document location, the raw contents, and structured values all available!\n",
    "SELECT TOP 10 * FROM AMS_LABS.DATA_ENGINEERING.CVs_RAW_TEXT_METADATA;"
   ]
  },
  {
   "cell_type": "code",
   "execution_count": null,
   "id": "3f9c2eb0-b00e-4406-a99d-7fb1ae0d23ac",
   "metadata": {
    "language": "sql",
    "name": "json_to_structure"
   },
   "outputs": [],
   "source": [
    "-- Turn the JSON value into a structured table\n",
    "CREATE OR REPLACE TABLE PEOPLE_DATA AS \n",
    "SELECT\n",
    "  metadata:CV.full_name::VARCHAR AS full_name,\n",
    "  metadata:CV.career_level::VARCHAR AS career_level,\n",
    "  metadata:CV.current_company::VARCHAR AS current_company,\n",
    "  metadata:CV.current_job_title::VARCHAR AS current_job_title,\n",
    "  metadata:CV.highest_education_degree::VARCHAR AS highest_education_degree,\n",
    "  metadata:CV.industry_sector::VARCHAR AS industry_sector,\n",
    "  metadata:CV.location_city::VARCHAR AS location_city,\n",
    "  metadata:CV.primary_skills::VARCHAR AS primary_skills,\n",
    "  metadata:CV.professional_certifications::VARCHAR AS professional_certifications,\n",
    "  metadata:CV.university_institution::VARCHAR AS university_institution,\n",
    "  REGEXP_REPLACE(metadata:CV.years_of_experience::VARCHAR, '[^0-9]', '')::INT AS years_of_experience,\n",
    "  EXTRACTED_LAYOUT as CV\n",
    "FROM\n",
    "  AMS_LABS.DATA_ENGINEERING.CVs_RAW_TEXT_METADATA;\n",
    "\n",
    "SELECT * FROM PEOPLE_DATA;"
   ]
  },
  {
   "cell_type": "code",
   "execution_count": null,
   "id": "6ece588b-9368-4c03-8634-9d059ea10bd5",
   "metadata": {
    "language": "sql",
    "name": "for_analyst"
   },
   "outputs": [],
   "source": [
    "-- Your existing raw data has a bit more interesting cols in, so let's use this for later\n",
    "CREATE TABLE IF NOT EXISTS FULL_PEOPLE_DATA AS \n",
    "SELECT\n",
    "    RAW_RESUME:ResumeParserData.Achievements::STRING AS Achievements,\n",
    "    RAW_RESUME:ResumeParserData.Address[0].City::STRING AS City,\n",
    "    RAW_RESUME:ResumeParserData.Address[0].Country::STRING AS Country,\n",
    "    RAW_RESUME:ResumeParserData.Address[0].FormattedAddress::STRING AS FormattedAddress,\n",
    "    RAW_RESUME:ResumeParserData.Address[0].State::STRING AS State,\n",
    "    RAW_RESUME:ResumeParserData.Address[0].Street::STRING AS Street,\n",
    "    RAW_RESUME:ResumeParserData.Address[0].ZipCode::STRING AS ZipCode,\n",
    "    RAW_RESUME:ResumeParserData.ApiInfo.BuildVersion::STRING AS BuildVersion,\n",
    "    RAW_RESUME:ResumeParserData.Availability::STRING AS Availability,\n",
    "    RAW_RESUME:ResumeParserData.AverageStay::STRING AS AverageStay,\n",
    "    RAW_RESUME:ResumeParserData.Category::STRING AS Category,\n",
    "    RAW_RESUME:ResumeParserData.Certification::STRING AS Certification,\n",
    "    RAW_RESUME:ResumeParserData.Coverletter::STRING AS Coverletter,\n",
    "    RAW_RESUME:ResumeParserData.CurrentEmployer::STRING AS CurrentEmployer,\n",
    "    RAW_RESUME:ResumeParserData.CustomFields::STRING AS CustomFields,\n",
    "    RAW_RESUME:ResumeParserData.DateOfBirth::STRING AS DateOfBirth,\n",
    "    RAW_RESUME:ResumeParserData.DetailResume::STRING AS DetailResume,\n",
    "    RAW_RESUME:ResumeParserData.Email[0].EmailAddress::STRING AS EmailAddress,\n",
    "    RAW_RESUME:ResumeParserData.ExecutiveSummary::STRING AS ExecutiveSummary,\n",
    "    RAW_RESUME:ResumeParserData.Experience::STRING AS Experience,\n",
    "    RAW_RESUME:ResumeParserData.FatherName::STRING AS FatherName,\n",
    "    RAW_RESUME:ResumeParserData.GapPeriod::STRING AS GapPeriod,\n",
    "    RAW_RESUME:ResumeParserData.Gender::STRING AS Gender,\n",
    "    RAW_RESUME:ResumeParserData.Hobbies::STRING AS Hobbies,\n",
    "    RAW_RESUME:ResumeParserData.HtmlResume::STRING AS HtmlResume,\n",
    "    RAW_RESUME:ResumeParserData.JobProfile::STRING AS JobProfile,\n",
    "    RAW_RESUME:ResumeParserData.LicenseNo::STRING AS LicenseNo,\n",
    "    RAW_RESUME:ResumeParserData.LongestStay::STRING AS LongestStay,\n",
    "    RAW_RESUME:ResumeParserData.ManagementSummary::STRING AS ManagementSummary,\n",
    "    RAW_RESUME:ResumeParserData.MaritalStatus::STRING AS MaritalStatus,\n",
    "    RAW_RESUME:ResumeParserData.MotherName::STRING AS MotherName,\n",
    "    RAW_RESUME:ResumeParserData.Name.FirstName::STRING AS FirstName,\n",
    "    RAW_RESUME:ResumeParserData.Name.LastName::STRING AS LastName,\n",
    "    RAW_RESUME:ResumeParserData.Name.FullName::STRING AS FullName,\n",
    "    RAW_RESUME:ResumeParserData.Nationality::STRING AS Nationality,\n",
    "    RAW_RESUME:ResumeParserData.Objectives::STRING AS Objectives,\n",
    "    RAW_RESUME:ResumeParserData.PanNo::STRING AS PanNo,\n",
    "    RAW_RESUME:ResumeParserData.ParsingDate::STRING AS ParsingDate,\n",
    "    RAW_RESUME:ResumeParserData.PhoneNumber[0].FormattedNumber::STRING AS PhoneNumber,\n",
    "    RAW_RESUME:ResumeParserData.Qualification::STRING AS Qualification,\n",
    "    RAW_RESUME:ResumeParserData.References::STRING AS References,\n",
    "    RAW_RESUME:ResumeParserData.ResumeCountry.Country::STRING AS ResumeCountry,\n",
    "    RAW_RESUME:ResumeParserData.ResumeFileName::STRING AS ResumeFileName,\n",
    "    RAW_RESUME:ResumeParserData.ResumeLanguage.Language::STRING AS ResumeLanguage,\n",
    "    RAW_RESUME:ResumeParserData.SegregatedExperience::VARIANT AS SegregatedExperience,\n",
    "    RAW_RESUME:ResumeParserData.SegregatedQualification::VARIANT AS SegregatedQualification,\n",
    "    RAW_RESUME:ResumeParserData.SegregatedSkill::VARIANT AS SegregatedSkill,\n",
    "    RAW_RESUME:ResumeParserData.SkillBlock::STRING AS SkillBlock,\n",
    "    RAW_RESUME:ResumeParserData.SkillKeywords::STRING AS SkillKeywords,\n",
    "    RAW_RESUME:ResumeParserData.SubCategory::STRING AS SubCategory,\n",
    "    RAW_RESUME:ResumeParserData.Summary::STRING AS Summary,\n",
    "    RAW_RESUME:ResumeParserData.VisaStatus::STRING AS VisaStatus,\n",
    "    RAW_RESUME:ResumeParserData.WebSite[0].Url::STRING AS WebsiteUrl,\n",
    "    RAW_RESUME:ResumeParserData.WorkedPeriod.TotalExperienceInMonths::STRING AS TotalExperienceInMonths,\n",
    "    RAW_RESUME:ResumeParserData.WorkedPeriod.TotalExperienceInYear::STRING AS TotalExperienceInYear,\n",
    "    RAW_RESUME:ResumeParserData.WorkedPeriod.TotalExperienceRange::STRING AS TotalExperienceRange,\n",
    "    RAW_RESUME AS RawResumeJson\n",
    "FROM RESUME_JSON;\n",
    "\n",
    "SELECT * FROM FULL_PEOPLE_DATA LIMIT 10;"
   ]
  },
  {
   "cell_type": "markdown",
   "id": "fae7d1af-097d-4f59-a71b-411d53772f43",
   "metadata": {
    "collapsed": false,
    "name": "analyst_set_up"
   },
   "source": [
    "Now let's head to Cortex Analyst to set up a semantic view to \"speak\" to this data!\n",
    "\n",
    "https://app.snowflake.com/bjkyvuf/wib08241/#/cortex/analyst"
   ]
  },
  {
   "cell_type": "code",
   "execution_count": null,
   "id": "eab54a7e-504f-4b72-928e-8c3bfc51a598",
   "metadata": {
    "codeCollapsed": false,
    "language": "sql",
    "name": "metadata_inclusion"
   },
   "outputs": [],
   "source": [
    "-- What if, instead of quantative analysis, we wanted to search across CVs, RAG style? First, let's combine our metadata and resumes together (for higher quality search)\n",
    "CREATE OR REPLACE TABLE AMS_LABS.DATA_ENGINEERING.CVs_TEXT_WITH_METADATA AS\n",
    "SELECT RELATIVE_PATH, CONCAT(METADATA, '\\n\\n', EXTRACTED_LAYOUT) as cv_extraction\n",
    "from AMS_LABS.DATA_ENGINEERING.CVs_RAW_TEXT_METADATA;\n",
    "\n",
    "select top 10 * from AMS_LABS.DATA_ENGINEERING.CVs_TEXT_WITH_METADATA;"
   ]
  },
  {
   "cell_type": "markdown",
   "id": "cfe5eef2-76e1-45b4-906c-a0e7328de1a6",
   "metadata": {
    "collapsed": false,
    "name": "cell5"
   },
   "source": [
    "Semantic Search"
   ]
  },
  {
   "cell_type": "code",
   "execution_count": null,
   "id": "cc96dc9a-6398-40e3-8df1-b2b6093e30d5",
   "metadata": {
    "language": "sql",
    "name": "create_cortex_search"
   },
   "outputs": [],
   "source": [
    "CREATE OR REPLACE CORTEX SEARCH SERVICE AMS_LABS.data_engineering.C_Search_CVs_TEXT\n",
    "  ON CV_EXTRACTION\n",
    "  ATTRIBUTES relative_path\n",
    "  WAREHOUSE = CORTEX_SEARCH_WH\n",
    "  TARGET_LAG = '7 days'\n",
    "  EMBEDDING_MODEL = 'snowflake-arctic-embed-l-v2.0'\n",
    "  COMMENT = 'SEARCH SERVICE ON CV DOCUMENTS'\n",
    "  AS SELECT * FROM AMS_LABS.DATA_ENGINEERING.CVs_TEXT_WITH_METADATA;"
   ]
  },
  {
   "cell_type": "markdown",
   "id": "5a4f429b-a6f5-4246-8d53-82b6a62b5bfa",
   "metadata": {
    "collapsed": false,
    "name": "cell3"
   },
   "source": [
    "We can find our search service here for testing:\n",
    "\n",
    "https://app.snowflake.com/bjkyvuf/wib08241/#/cortex/search"
   ]
  },
  {
   "cell_type": "markdown",
   "id": "15979f1c-f33d-4bc4-b7ab-f8759f9e4c18",
   "metadata": {
    "collapsed": false,
    "name": "cell6"
   },
   "source": [
    "BONUS : Using Marketplace data to enrich our analyst process further\n",
    "\n",
    "Let's go find a job description dataset from the marketplace. \n",
    "\n",
    "[RAW Sample Data](https://app.snowflake.com/marketplace/listing/GZTSZ9GO9NR/linkup-raw-sample-data?search=Job%20description&pricing=free)\n"
   ]
  },
  {
   "cell_type": "code",
   "execution_count": null,
   "id": "4dd8d004-eefe-4a4f-a332-cee7fffce109",
   "metadata": {
    "language": "sql",
    "name": "find_job_title"
   },
   "outputs": [],
   "source": [
    "-- https://app.snowflake.com/marketplace/listing/GZTSZ9GO9NR/linkup-raw-sample-data\n",
    "-- in this dataset, we can find 3 titles that exists in both datasets.\n",
    "select distinct title from (\n",
    "select a.*, b.title, b.company_name from RAW_SAMPLE_DATA.LINKUP.JOB_DESCRIPTIONS_SAMPLE as a inner join\n",
    "RAW_SAMPLE_DATA.LINKUP.JOB_RECORDS_SAMPLE as b on a.JOB_HASH = b.job_hash\n",
    "where b.title in ('Business Analyst', 'Investment Manager', 'Private Banking Execs', 'PEP Risk Analyst', 'Data Scientist', 'Business Relationship Manager', 'Risk Assessment Assoc', 'Product Managers', 'Head Of Compliance', 'Customer Service'));"
   ]
  },
  {
   "cell_type": "code",
   "execution_count": null,
   "id": "9401d5fa-1575-46dd-961e-ab2d9639ba2b",
   "metadata": {
    "language": "sql",
    "name": "find_job_desc"
   },
   "outputs": [],
   "source": [
    "select a.*, b.title, b.company_name from RAW_SAMPLE_DATA.LINKUP.JOB_DESCRIPTIONS_SAMPLE as a inner join\n",
    "RAW_SAMPLE_DATA.LINKUP.JOB_RECORDS_SAMPLE as b on a.JOB_HASH = b.job_hash\n",
    "where b.title in ('Business Analyst', 'Investment Manager', 'Private Banking Execs', 'PEP Risk Analyst', 'Data Scientist', 'Business Relationship Manager', 'Risk Assessment Assoc', 'Product Managers', 'Head Of Compliance', 'Customer Service');"
   ]
  },
  {
   "cell_type": "code",
   "execution_count": null,
   "id": "a2f2b600-8a6d-4406-8bac-9d8b2f124a7f",
   "metadata": {
    "language": "sql",
    "name": "job_desc_creation"
   },
   "outputs": [],
   "source": [
    "-- let's take 2 job descriptions from each company we have in the dataset per job title.\n",
    "CREATE OR REPLACE TABLE AMS_LABS.DATA_ENGINEERING.JOB_DESCRIPTIONS\n",
    "AS\n",
    "WITH ranked_results AS (\n",
    "  SELECT a.*, \n",
    "         b.title, \n",
    "         b.company_name,\n",
    "         ROW_NUMBER() OVER (PARTITION BY b.title, b.company_name ORDER BY a.job_hash) as row_num\n",
    "  FROM RAW_SAMPLE_DATA.LINKUP.JOB_DESCRIPTIONS_SAMPLE as a \n",
    "  INNER JOIN RAW_SAMPLE_DATA.LINKUP.JOB_RECORDS_SAMPLE as b \n",
    "    ON a.JOB_HASH = b.job_hash\n",
    "  WHERE b.title IN ('Business Analyst', 'Investment Manager', 'Private Banking Execs', \n",
    "                    'PEP Risk Analyst', 'Data Scientist', 'Business Relationship Manager', \n",
    "                    'Risk Assessment Assoc', 'Product Managers', 'Head Of Compliance', \n",
    "                    'Customer Service')\n",
    ")\n",
    "SELECT *\n",
    "FROM ranked_results\n",
    "WHERE row_num <= 2\n",
    "ORDER BY title, company_name, row_num; \n",
    "\n",
    "SELECT * FROM AMS_LABS.DATA_ENGINEERING.JOB_DESCRIPTIONS;"
   ]
  },
  {
   "cell_type": "code",
   "execution_count": null,
   "id": "a0c469ba-f026-4939-84ed-501aea9132f9",
   "metadata": {
    "language": "sql",
    "name": "table_check3"
   },
   "outputs": [],
   "source": [
    "select * from AMS_LABS.DATA_ENGINEERING.JOB_DESCRIPTIONS;"
   ]
  },
  {
   "cell_type": "code",
   "execution_count": null,
   "id": "95e667c7-13b3-407f-9707-2e5da2bc8474",
   "metadata": {
    "language": "sql",
    "name": "ai_filter_join"
   },
   "outputs": [],
   "source": [
    "--The following example joins the RESUMES table with the JOBS table using a prompt with the AI_FILTER function.\n",
    "SELECT c.relative_path, j.title, c.cv_extraction, job_description, j.company_name\n",
    "FROM AMS_LABS.DATA_ENGINEERING.CVs_TEXT_WITH_METADATA as c\n",
    "JOIN AMS_LABS.DATA_ENGINEERING.JOB_DESCRIPTIONS AS j\n",
    "ON AI_FILTER(PROMPT('Evaluate if this resume {0} fits this job description {1}', c.CV_EXTRACTION, j.job_description));"
   ]
  },
  {
   "cell_type": "code",
   "execution_count": null,
   "id": "8ee0eb43-e91c-4487-84b8-b1038fddcb00",
   "metadata": {
    "language": "sql",
    "name": "cortex_cost_management1"
   },
   "outputs": [],
   "source": [
    "SELECT *\n",
    "  FROM SNOWFLAKE.ACCOUNT_USAGE.METERING_DAILY_HISTORY\n",
    "  WHERE SERVICE_TYPE='AI_SERVICES';"
   ]
  },
  {
   "cell_type": "code",
   "execution_count": null,
   "id": "76135bd8-d160-4c66-9f0c-a103be522416",
   "metadata": {
    "language": "sql",
    "name": "cortex_cost_management2"
   },
   "outputs": [],
   "source": [
    "SELECT *\n",
    "  FROM SNOWFLAKE.ACCOUNT_USAGE.CORTEX_FUNCTIONS_USAGE_HISTORY;"
   ]
  },
  {
   "cell_type": "markdown",
   "id": "91b05cd6-0388-460b-9003-68a19c8fb7f1",
   "metadata": {
    "collapsed": false,
    "name": "cell4"
   },
   "source": [
    "### [Quota](https://docs.snowflake.com/en/user-guide/snowflake-cortex/aisql#usage-quotas)\n",
    "\n",
    "On-demand Snowflake accounts without a valid payment method (such as trial accounts) are limited to roughly one credit per day in Snowflake Cortex LLM function usage. To remove this restriction, convert your trial account to a paid account."
   ]
  }
 ],
 "metadata": {
  "kernelspec": {
   "display_name": "Streamlit Notebook",
   "name": "streamlit"
  },
  "lastEditStatus": {
   "authorEmail": "tom.christian@snowflake.com",
   "authorId": "2292345737972",
   "authorName": "TCHRISTIAN",
   "lastEditTime": 1750082999677,
   "notebookId": "c7zrpry2hr6zmnpkgh7d",
   "sessionId": "9a809f31-b96b-4668-a0b7-c0c238fbb0e0"
  }
 },
 "nbformat": 4,
 "nbformat_minor": 5
}
